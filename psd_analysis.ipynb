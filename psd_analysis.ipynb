{
 "cells": [
  {
   "cell_type": "code",
   "execution_count": null,
   "id": "e49f82dc",
   "metadata": {},
   "outputs": [],
   "source": [
    "import os\n",
    "import numpy as np\n",
    "import pandas as pd\n",
    "import matplotlib.pyplot as plt\n",
    "\n",
    "from scipy import signal\n",
    "from scipy.signal import welch\n",
    "\n",
    "import auxlib"
   ]
  },
  {
   "cell_type": "code",
   "execution_count": null,
   "id": "af7c1423",
   "metadata": {},
   "outputs": [],
   "source": [
    "saving_figs = os.path.join(os.getcwd(), 'figures')\n",
    "if not os.path.exists(saving_figs):\n",
    "\tos.makedirs(saving_figs)\n",
    "\n",
    "saving_files = os.path.join(os.getcwd(), 'media')\n",
    "if not os.path.exists(saving_files):\n",
    "\tos.makedirs(saving_files)"
   ]
  },
  {
   "cell_type": "code",
   "execution_count": null,
   "id": "f1507e52",
   "metadata": {},
   "outputs": [],
   "source": [
    "signals, signal_headers, header = auxlib.loadEEG(subject=1, record=1)"
   ]
  },
  {
   "cell_type": "code",
   "execution_count": null,
   "id": "080e9265",
   "metadata": {},
   "outputs": [],
   "source": [
    "subject, data, labels, channels = auxlib.GetSignal(1, 'RL', sample_rate=160, segment_length=640, selected_channels=None)\n",
    "\n",
    "fs = 160.0\n",
    "fig, axs = plt.subplots(16, 4, figsize=(20, 40))\n",
    "\n",
    "signals = data[0]\n",
    "\n",
    "for ch in range(1, 65):\n",
    "\tx = signals[ch-1]\n",
    "\tf, Pxx = welch(x, fs, scaling='density')\n",
    "\n",
    "\tPxx_dB = 10 * np.log10(Pxx)\n",
    "\n",
    "\taxs[(ch-1)//4, (ch-1)%4].plot(f, Pxx_dB)\n",
    "\taxs[(ch-1)//4, (ch-1)%4].set_ylabel('PDS [dB]')\n",
    "\t#axs[(ch-1)//4, (ch-1)%4].set_ylim(0, 7)\n",
    "\taxs[(ch-1)//4, (ch-1)%4].set_xlabel('Frequency [Hz]')\n",
    "\taxs[(ch-1)//4, (ch-1)%4].set_title(\"Ch {}\".format(ch))\n",
    "\n",
    "# Layout so plots do not overlap\n",
    "fig.tight_layout()\n",
    "#fig.savefig('S055R03_spectrogram.png', dpi=300)\n",
    "fig.savefig(os.path.join(saving_figs, 'S001R03_psd_all_channels.png'), dpi=300, bbox_inches='tight')\n",
    "plt.show()"
   ]
  },
  {
   "cell_type": "code",
   "execution_count": null,
   "id": "c80b826d",
   "metadata": {},
   "outputs": [],
   "source": []
  },
  {
   "cell_type": "code",
   "execution_count": null,
   "id": "0a68f1f2",
   "metadata": {},
   "outputs": [],
   "source": [
    "subject, data, labels, channels = auxlib.GetSignal(12, 'RR', sample_rate=160, segment_length=640, selected_channels=None)\n",
    "\n",
    "fs = 160.0\n",
    "fig, axs = plt.subplots(16, 4, figsize=(20, 40))\n",
    "\n",
    "signals = data[0]\n",
    "\n",
    "for ch in range(1, 65):\n",
    "\tx = signals[ch-1]\n",
    "\tf, Pxx = welch(x, fs, scaling='density')\n",
    "\n",
    "\tPxx_dB = 10 * np.log10(Pxx)\n",
    "\n",
    "\taxs[(ch-1)//4, (ch-1)%4].plot(f, Pxx/max(Pxx))\n",
    "\taxs[(ch-1)//4, (ch-1)%4].set_ylabel('PDS (Normalized)')\n",
    "\t#axs[(ch-1)//4, (ch-1)%4].set_ylim(0, 7)\n",
    "\taxs[(ch-1)//4, (ch-1)%4].set_xlabel('Frequency [Hz]')\n",
    "\taxs[(ch-1)//4, (ch-1)%4].set_title(\"Ch {}\".format(ch))\n",
    "\n",
    "# Layout so plots do not overlap\n",
    "fig.tight_layout()\n",
    "#fig.savefig('S055R03_spectrogram.png', dpi=300)\n",
    "\n",
    "plt.show()"
   ]
  },
  {
   "cell_type": "code",
   "execution_count": null,
   "id": "aa63f8d8",
   "metadata": {},
   "outputs": [],
   "source": []
  },
  {
   "cell_type": "code",
   "execution_count": null,
   "id": "e0b5d775",
   "metadata": {},
   "outputs": [],
   "source": []
  },
  {
   "cell_type": "code",
   "execution_count": null,
   "id": "419b26c5",
   "metadata": {},
   "outputs": [],
   "source": []
  }
 ],
 "metadata": {
  "kernelspec": {
   "display_name": "base",
   "language": "python",
   "name": "python3"
  },
  "language_info": {
   "name": "python",
   "version": "3.9.7"
  }
 },
 "nbformat": 4,
 "nbformat_minor": 5
}
